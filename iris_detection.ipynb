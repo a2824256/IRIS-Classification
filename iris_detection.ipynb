{
 "cells": [
  {
   "cell_type": "code",
   "execution_count": 1,
   "metadata": {
    "pycharm": {
     "is_executing": true,
     "name": "#%%\n"
    }
   },
   "outputs": [
    {
     "data": {
      "image/png": "[encoded data removed]",
      "text/plain": [
       "<Figure size 432x288 with 1 Axes>"
      ]
     },
     "metadata": {},
     "output_type": "display_data"
    },
    {
     "name": "stdout",
     "output_type": "stream",
     "text": [
      "test cost, Step 200, Cost 0.084372\n"
     ]
    },
    {
     "data": {
      "text/plain": [
       "<Figure size 432x288 with 0 Axes>"
      ]
     },
     "metadata": {},
     "output_type": "display_data"
    }
   ],
   "source": [
    "from __future__ import print_function\n",
    "import paddle\n",
    "import paddle.fluid as fluid\n",
    "import numpy as np\n",
    "import math\n",
    "import csv\n",
    "from paddle.utils.plot import Ploter\n",
    "import sys\n",
    "\n",
    "ITERABLE = True\n",
    "TRAIN_DATA = []\n",
    "TEST_DATA = []\n",
    "TRAIN_RES = []\n",
    "TEST_RES = []\n",
    "TRAIN_FILE = \"./iris_training.csv\"\n",
    "TEST_FILE = \"./iris_test.csv\"\n",
    "\n",
    "\n",
    "def data_pretreatment():\n",
    "    # train\n",
    "    with open(TRAIN_FILE) as f:\n",
    "        render = csv.reader(f)\n",
    "        for row in render:\n",
    "            if len(row) != 0:\n",
    "                TRAIN_DATA.append([row[0], row[1], row[2], row[3]])\n",
    "                TRAIN_RES.append([row[4]])\n",
    "\n",
    "    # test\n",
    "    with open(TEST_FILE) as f:\n",
    "        render = csv.reader(f)\n",
    "        for row in render:\n",
    "            if len(row) != 0:\n",
    "                TEST_DATA.append([row[0], row[1], row[2], row[3]])\n",
    "                TEST_RES.append([row[4]])\n",
    "\n",
    "\n",
    "def train_sample_reader():\n",
    "    for i in range(120):\n",
    "        input = np.array(TRAIN_DATA).astype('float32')\n",
    "        label = np.array(TRAIN_RES).astype('int64')\n",
    "        yield input, label\n",
    "\n",
    "def test_sample_reader():\n",
    "    for i in range(30):\n",
    "        input = np.array(TEST_DATA).astype('float32')\n",
    "        label = np.array(TEST_RES).astype('int64')\n",
    "        yield input, label\n",
    "\n",
    "\n",
    "def train(executor, program, reader, feeder, fetch_list):\n",
    "    accumulated = 1 * [0]\n",
    "    count = 0\n",
    "    for data_test in reader():\n",
    "        outs = executor.run(program=program,\n",
    "                            feed=feeder.feed(data_test),\n",
    "                            fetch_list=fetch_list)\n",
    "        accumulated = [x_c[0] + x_c[1][0] for x_c in zip(accumulated, outs)]  # 累加测试过程中的损失值\n",
    "        count += 1  # 累加测试集中的样本数量\n",
    "    return [x_d / count for x_d in accumulated]\n",
    "\n",
    "# 训练部分\n",
    "\n",
    "# data pretreatment\n",
    "data_pretreatment()\n",
    "train_reader = fluid.io.batch(train_sample_reader, batch_size=100)\n",
    "test_reader = fluid.io.batch(test_sample_reader, batch_size=100)\n",
    "\n",
    "# network\n",
    "INPUT = fluid.data(name='input', shape=[None, 4], dtype='float32')\n",
    "LABEL = fluid.data(name='label', shape=[None, 1], dtype='int64')\n",
    "hidden = fluid.layers.fc(name='fc1', input=INPUT, size=10, act='relu')\n",
    "hidden = fluid.layers.fc(name='fc2', input=hidden, size=20, act='relu')\n",
    "hidden = fluid.layers.fc(name='fc3', input=hidden, size=10, act='relu')\n",
    "prediction = fluid.layers.fc(name='soft', input=hidden, size=3, act='softmax')\n",
    "\n",
    "# main program\n",
    "main_program = fluid.default_main_program()  # 获取默认/全局主函数\n",
    "startup_program = fluid.default_startup_program()\n",
    "\n",
    "# loss\n",
    "loss = fluid.layers.mean(fluid.layers.cross_entropy(input=prediction, label=LABEL))\n",
    "acc = fluid.layers.accuracy(input=prediction, label=LABEL)\n",
    "\n",
    "# test program\n",
    "test_program = main_program.clone(for_test=True)\n",
    "adam = fluid.optimizer.Adam(learning_rate=0.01)\n",
    "adam.minimize(loss)\n",
    "\n",
    "place = fluid.CUDAPlace(0)\n",
    "exe = fluid.Executor(place)\n",
    "\n",
    "num_epochs = 100\n",
    "\n",
    "\n",
    "params_dirname = \"./my_paddle_model\"\n",
    "feeder = fluid.DataFeeder(place=place, feed_list=[INPUT, LABEL])\n",
    "exe.run(startup_program)\n",
    "train_prompt = \"train cost\"\n",
    "test_prompt = \"test cost\"\n",
    "\n",
    "%matplotlib inline\n",
    "plot_prompt = Ploter(train_prompt, test_prompt)\n",
    "step = 0\n",
    "\n",
    "exe_test = fluid.Executor(place)\n",
    "\n",
    "for pass_id in range(num_epochs):\n",
    "    for data_train in train_reader():\n",
    "        step = step + 1\n",
    "        avg_loss_value, = exe.run(main_program, feed=feeder.feed(data_train), fetch_list=[loss])\n",
    "        if step % 10 == 0:  # 每10个批次记录并输出一下训练损失\n",
    "            plot_prompt.append(train_prompt, step, avg_loss_value[0])\n",
    "            plot_prompt.plot()\n",
    "            print(\"%s, Step %d, Cost %f\" % (train_prompt, step, avg_loss_value[0]))\n",
    "        if step % 10 == 0:  # 每100批次记录并输出一下测试损失\n",
    "            test_metics = train(executor=exe_test, program=test_program, reader=test_reader, fetch_list=[loss.name], feeder=feeder)\n",
    "            plot_prompt.append(test_prompt, step, test_metics[0])\n",
    "            plot_prompt.plot()\n",
    "            print(\"%s, Step %d, Cost %f\" % (test_prompt, step, test_metics[0]))\n",
    "            if test_metics[0] < 10.0:  # 如果准确率达到要求，则停止训练\n",
    "                break\n",
    "\n",
    "        if math.isnan(float(avg_loss_value[0])):\n",
    "            sys.exit(\"got NaN loss, training failed.\")\n",
    "\n",
    "        #  保存训练参数到之前给定的路径中\n",
    "        if params_dirname is not None:\n",
    "            fluid.io.save_inference_model(params_dirname, ['input'], [prediction], exe)"
   ]
  },
  {
   "cell_type": "code",
   "execution_count": 2,
   "metadata": {
    "pycharm": {
     "name": "#%%\n"
    }
   },
   "outputs": [
    {
     "name": "stderr",
     "output_type": "stream",
     "text": [
      "C:\\ProgramData\\Miniconda3\\envs\\pdpd\\lib\\site-packages\\paddle\\fluid\\executor.py:1070: UserWarning: The following exception is not an EOF exception.\n",
      "  \"The following exception is not an EOF exception.\")\n"
     ]
    },
    {
     "ename": "EnforceNotMet",
     "evalue": "\n\n--------------------------------------------\nC++ Call Stacks (More useful to developers):\n--------------------------------------------\nWindows not support stack backtrace yet.\n\n----------------------\nError Message Summary:\n----------------------\nError: Incompatible data or style type: tensor.set() supports bool, float16, float32, float64, int8, int16, int32, int64 and uint8, uint16, but got <U3! at (D:\\1.8.3\\paddle\\paddle/fluid/pybind/tensor_py.h:242)\n",
     "output_type": "error",
     "traceback": [
      "\u001B[1;31m---------------------------------------------------------------------------\u001B[0m",
      "\u001B[1;31mEnforceNotMet\u001B[0m                             Traceback (most recent call last)",
      "\u001B[1;32m<ipython-input-2-3b45f7b516c3>\u001B[0m in \u001B[0;36m<module>\u001B[1;34m\u001B[0m\n\u001B[0;32m     19\u001B[0m     results = infer_exe.run(inference_program,\n\u001B[0;32m     20\u001B[0m                             \u001B[0mfeed\u001B[0m\u001B[1;33m=\u001B[0m\u001B[1;33m{\u001B[0m\u001B[0mfeed_target_names\u001B[0m\u001B[1;33m[\u001B[0m\u001B[1;36m0\u001B[0m\u001B[1;33m]\u001B[0m\u001B[1;33m:\u001B[0m \u001B[0mnp\u001B[0m\u001B[1;33m.\u001B[0m\u001B[0marray\u001B[0m\u001B[1;33m(\u001B[0m\u001B[0miris_feat\u001B[0m\u001B[1;33m)\u001B[0m\u001B[1;33m}\u001B[0m\u001B[1;33m,\u001B[0m\u001B[1;33m\u001B[0m\u001B[1;33m\u001B[0m\u001B[0m\n\u001B[1;32m---> 21\u001B[1;33m                             fetch_list=fetch_targets)\n\u001B[0m\u001B[0;32m     22\u001B[0m \u001B[1;33m\u001B[0m\u001B[0m\n\u001B[0;32m     23\u001B[0m     \u001B[0mprint\u001B[0m\u001B[1;33m(\u001B[0m\u001B[1;34m\"infer results: (House Price)\"\u001B[0m\u001B[1;33m)\u001B[0m\u001B[1;33m\u001B[0m\u001B[1;33m\u001B[0m\u001B[0m\n",
      "\u001B[1;32mC:\\ProgramData\\Miniconda3\\envs\\pdpd\\lib\\site-packages\\paddle\\fluid\\executor.py\u001B[0m in \u001B[0;36mrun\u001B[1;34m(self, program, feed, fetch_list, feed_var_name, fetch_var_name, scope, return_numpy, use_program_cache, return_merged, use_prune)\u001B[0m\n\u001B[0;32m   1069\u001B[0m                 warnings.warn(\n\u001B[0;32m   1070\u001B[0m                     \"The following exception is not an EOF exception.\")\n\u001B[1;32m-> 1071\u001B[1;33m             \u001B[0msix\u001B[0m\u001B[1;33m.\u001B[0m\u001B[0mreraise\u001B[0m\u001B[1;33m(\u001B[0m\u001B[1;33m*\u001B[0m\u001B[0msys\u001B[0m\u001B[1;33m.\u001B[0m\u001B[0mexc_info\u001B[0m\u001B[1;33m(\u001B[0m\u001B[1;33m)\u001B[0m\u001B[1;33m)\u001B[0m\u001B[1;33m\u001B[0m\u001B[1;33m\u001B[0m\u001B[0m\n\u001B[0m\u001B[0;32m   1072\u001B[0m \u001B[1;33m\u001B[0m\u001B[0m\n\u001B[0;32m   1073\u001B[0m     def _run_impl(self, program, feed, fetch_list, feed_var_name,\n",
      "\u001B[1;32mC:\\ProgramData\\Miniconda3\\envs\\pdpd\\lib\\site-packages\\six.py\u001B[0m in \u001B[0;36mreraise\u001B[1;34m(tp, value, tb)\u001B[0m\n\u001B[0;32m    701\u001B[0m             \u001B[1;32mif\u001B[0m \u001B[0mvalue\u001B[0m\u001B[1;33m.\u001B[0m\u001B[0m__traceback__\u001B[0m \u001B[1;32mis\u001B[0m \u001B[1;32mnot\u001B[0m \u001B[0mtb\u001B[0m\u001B[1;33m:\u001B[0m\u001B[1;33m\u001B[0m\u001B[1;33m\u001B[0m\u001B[0m\n\u001B[0;32m    702\u001B[0m                 \u001B[1;32mraise\u001B[0m \u001B[0mvalue\u001B[0m\u001B[1;33m.\u001B[0m\u001B[0mwith_traceback\u001B[0m\u001B[1;33m(\u001B[0m\u001B[0mtb\u001B[0m\u001B[1;33m)\u001B[0m\u001B[1;33m\u001B[0m\u001B[1;33m\u001B[0m\u001B[0m\n\u001B[1;32m--> 703\u001B[1;33m             \u001B[1;32mraise\u001B[0m \u001B[0mvalue\u001B[0m\u001B[1;33m\u001B[0m\u001B[1;33m\u001B[0m\u001B[0m\n\u001B[0m\u001B[0;32m    704\u001B[0m         \u001B[1;32mfinally\u001B[0m\u001B[1;33m:\u001B[0m\u001B[1;33m\u001B[0m\u001B[1;33m\u001B[0m\u001B[0m\n\u001B[0;32m    705\u001B[0m             \u001B[0mvalue\u001B[0m \u001B[1;33m=\u001B[0m \u001B[1;32mNone\u001B[0m\u001B[1;33m\u001B[0m\u001B[1;33m\u001B[0m\u001B[0m\n",
      "\u001B[1;32mC:\\ProgramData\\Miniconda3\\envs\\pdpd\\lib\\site-packages\\paddle\\fluid\\executor.py\u001B[0m in \u001B[0;36mrun\u001B[1;34m(self, program, feed, fetch_list, feed_var_name, fetch_var_name, scope, return_numpy, use_program_cache, return_merged, use_prune)\u001B[0m\n\u001B[0;32m   1064\u001B[0m                 \u001B[0muse_program_cache\u001B[0m\u001B[1;33m=\u001B[0m\u001B[0muse_program_cache\u001B[0m\u001B[1;33m,\u001B[0m\u001B[1;33m\u001B[0m\u001B[1;33m\u001B[0m\u001B[0m\n\u001B[0;32m   1065\u001B[0m                 \u001B[0muse_prune\u001B[0m\u001B[1;33m=\u001B[0m\u001B[0muse_prune\u001B[0m\u001B[1;33m,\u001B[0m\u001B[1;33m\u001B[0m\u001B[1;33m\u001B[0m\u001B[0m\n\u001B[1;32m-> 1066\u001B[1;33m                 return_merged=return_merged)\n\u001B[0m\u001B[0;32m   1067\u001B[0m         \u001B[1;32mexcept\u001B[0m \u001B[0mException\u001B[0m \u001B[1;32mas\u001B[0m \u001B[0me\u001B[0m\u001B[1;33m:\u001B[0m\u001B[1;33m\u001B[0m\u001B[1;33m\u001B[0m\u001B[0m\n\u001B[0;32m   1068\u001B[0m             \u001B[1;32mif\u001B[0m \u001B[1;32mnot\u001B[0m \u001B[0misinstance\u001B[0m\u001B[1;33m(\u001B[0m\u001B[0me\u001B[0m\u001B[1;33m,\u001B[0m \u001B[0mcore\u001B[0m\u001B[1;33m.\u001B[0m\u001B[0mEOFException\u001B[0m\u001B[1;33m)\u001B[0m\u001B[1;33m:\u001B[0m\u001B[1;33m\u001B[0m\u001B[1;33m\u001B[0m\u001B[0m\n",
      "\u001B[1;32mC:\\ProgramData\\Miniconda3\\envs\\pdpd\\lib\\site-packages\\paddle\\fluid\\executor.py\u001B[0m in \u001B[0;36m_run_impl\u001B[1;34m(self, program, feed, fetch_list, feed_var_name, fetch_var_name, scope, return_numpy, use_program_cache, return_merged, use_prune)\u001B[0m\n\u001B[0;32m   1152\u001B[0m                 \u001B[0mscope\u001B[0m\u001B[1;33m=\u001B[0m\u001B[0mscope\u001B[0m\u001B[1;33m,\u001B[0m\u001B[1;33m\u001B[0m\u001B[1;33m\u001B[0m\u001B[0m\n\u001B[0;32m   1153\u001B[0m                 \u001B[0mreturn_numpy\u001B[0m\u001B[1;33m=\u001B[0m\u001B[0mreturn_numpy\u001B[0m\u001B[1;33m,\u001B[0m\u001B[1;33m\u001B[0m\u001B[1;33m\u001B[0m\u001B[0m\n\u001B[1;32m-> 1154\u001B[1;33m                 use_program_cache=use_program_cache)\n\u001B[0m\u001B[0;32m   1155\u001B[0m \u001B[1;33m\u001B[0m\u001B[0m\n\u001B[0;32m   1156\u001B[0m         \u001B[0mprogram\u001B[0m\u001B[1;33m.\u001B[0m\u001B[0m_compile\u001B[0m\u001B[1;33m(\u001B[0m\u001B[0mscope\u001B[0m\u001B[1;33m,\u001B[0m \u001B[0mself\u001B[0m\u001B[1;33m.\u001B[0m\u001B[0mplace\u001B[0m\u001B[1;33m)\u001B[0m\u001B[1;33m\u001B[0m\u001B[1;33m\u001B[0m\u001B[0m\n",
      "\u001B[1;32mC:\\ProgramData\\Miniconda3\\envs\\pdpd\\lib\\site-packages\\paddle\\fluid\\executor.py\u001B[0m in \u001B[0;36m_run_program\u001B[1;34m(self, program, feed, fetch_list, feed_var_name, fetch_var_name, scope, return_numpy, use_program_cache)\u001B[0m\n\u001B[0;32m   1224\u001B[0m                 fetch_var_name=fetch_var_name)\n\u001B[0;32m   1225\u001B[0m \u001B[1;33m\u001B[0m\u001B[0m\n\u001B[1;32m-> 1226\u001B[1;33m         \u001B[0mself\u001B[0m\u001B[1;33m.\u001B[0m\u001B[0m_feed_data\u001B[0m\u001B[1;33m(\u001B[0m\u001B[0mprogram\u001B[0m\u001B[1;33m,\u001B[0m \u001B[0mfeed\u001B[0m\u001B[1;33m,\u001B[0m \u001B[0mfeed_var_name\u001B[0m\u001B[1;33m,\u001B[0m \u001B[0mscope\u001B[0m\u001B[1;33m)\u001B[0m\u001B[1;33m\u001B[0m\u001B[1;33m\u001B[0m\u001B[0m\n\u001B[0m\u001B[0;32m   1227\u001B[0m         \u001B[1;32mif\u001B[0m \u001B[1;32mnot\u001B[0m \u001B[0muse_program_cache\u001B[0m\u001B[1;33m:\u001B[0m\u001B[1;33m\u001B[0m\u001B[1;33m\u001B[0m\u001B[0m\n\u001B[0;32m   1228\u001B[0m             self._default_executor.run(program.desc, scope, 0, True, True,\n",
      "\u001B[1;32mC:\\ProgramData\\Miniconda3\\envs\\pdpd\\lib\\site-packages\\paddle\\fluid\\executor.py\u001B[0m in \u001B[0;36m_feed_data\u001B[1;34m(self, program, feed, feed_var_name, scope)\u001B[0m\n\u001B[0;32m    635\u001B[0m                 \u001B[0mvar\u001B[0m \u001B[1;33m=\u001B[0m \u001B[0mglobal_block\u001B[0m\u001B[1;33m.\u001B[0m\u001B[0mvar\u001B[0m\u001B[1;33m(\u001B[0m\u001B[0mfeed_target_name\u001B[0m\u001B[1;33m)\u001B[0m\u001B[1;33m\u001B[0m\u001B[1;33m\u001B[0m\u001B[0m\n\u001B[0;32m    636\u001B[0m                 \u001B[1;32mif\u001B[0m \u001B[1;32mnot\u001B[0m \u001B[0misinstance\u001B[0m\u001B[1;33m(\u001B[0m\u001B[0mcur_feed\u001B[0m\u001B[1;33m,\u001B[0m \u001B[0mcore\u001B[0m\u001B[1;33m.\u001B[0m\u001B[0mLoDTensor\u001B[0m\u001B[1;33m)\u001B[0m\u001B[1;33m:\u001B[0m\u001B[1;33m\u001B[0m\u001B[1;33m\u001B[0m\u001B[0m\n\u001B[1;32m--> 637\u001B[1;33m                     \u001B[0mcur_feed\u001B[0m \u001B[1;33m=\u001B[0m \u001B[0m_as_lodtensor\u001B[0m\u001B[1;33m(\u001B[0m\u001B[0mcur_feed\u001B[0m\u001B[1;33m,\u001B[0m \u001B[0mself\u001B[0m\u001B[1;33m.\u001B[0m\u001B[0mplace\u001B[0m\u001B[1;33m,\u001B[0m \u001B[0mvar\u001B[0m\u001B[1;33m.\u001B[0m\u001B[0mdtype\u001B[0m\u001B[1;33m)\u001B[0m\u001B[1;33m\u001B[0m\u001B[1;33m\u001B[0m\u001B[0m\n\u001B[0m\u001B[0;32m    638\u001B[0m                 \u001B[0mcheck_feed_shape_type\u001B[0m\u001B[1;33m(\u001B[0m\u001B[0mvar\u001B[0m\u001B[1;33m,\u001B[0m \u001B[0mcur_feed\u001B[0m\u001B[1;33m)\u001B[0m\u001B[1;33m\u001B[0m\u001B[1;33m\u001B[0m\u001B[0m\n\u001B[0;32m    639\u001B[0m                 \u001B[0midx\u001B[0m \u001B[1;33m=\u001B[0m \u001B[0mop\u001B[0m\u001B[1;33m.\u001B[0m\u001B[0mdesc\u001B[0m\u001B[1;33m.\u001B[0m\u001B[0mattr\u001B[0m\u001B[1;33m(\u001B[0m\u001B[1;34m'col'\u001B[0m\u001B[1;33m)\u001B[0m\u001B[1;33m\u001B[0m\u001B[1;33m\u001B[0m\u001B[0m\n",
      "\u001B[1;32mC:\\ProgramData\\Miniconda3\\envs\\pdpd\\lib\\site-packages\\paddle\\fluid\\executor.py\u001B[0m in \u001B[0;36m_as_lodtensor\u001B[1;34m(data, place, dtype)\u001B[0m\n\u001B[0;32m    423\u001B[0m     \u001B[1;31m# single tensor case\u001B[0m\u001B[1;33m\u001B[0m\u001B[1;33m\u001B[0m\u001B[1;33m\u001B[0m\u001B[0m\n\u001B[0;32m    424\u001B[0m     \u001B[0mtensor\u001B[0m \u001B[1;33m=\u001B[0m \u001B[0mcore\u001B[0m\u001B[1;33m.\u001B[0m\u001B[0mLoDTensor\u001B[0m\u001B[1;33m(\u001B[0m\u001B[1;33m)\u001B[0m\u001B[1;33m\u001B[0m\u001B[1;33m\u001B[0m\u001B[0m\n\u001B[1;32m--> 425\u001B[1;33m     \u001B[0mtensor\u001B[0m\u001B[1;33m.\u001B[0m\u001B[0mset\u001B[0m\u001B[1;33m(\u001B[0m\u001B[0mdata\u001B[0m\u001B[1;33m,\u001B[0m \u001B[0mplace\u001B[0m\u001B[1;33m)\u001B[0m\u001B[1;33m\u001B[0m\u001B[1;33m\u001B[0m\u001B[0m\n\u001B[0m\u001B[0;32m    426\u001B[0m     \u001B[1;32mreturn\u001B[0m \u001B[0mtensor\u001B[0m\u001B[1;33m\u001B[0m\u001B[1;33m\u001B[0m\u001B[0m\n\u001B[0;32m    427\u001B[0m \u001B[1;33m\u001B[0m\u001B[0m\n",
      "\u001B[1;31mEnforceNotMet\u001B[0m: \n\n--------------------------------------------\nC++ Call Stacks (More useful to developers):\n--------------------------------------------\nWindows not support stack backtrace yet.\n\n----------------------\nError Message Summary:\n----------------------\nError: Incompatible data or style type: tensor.set() supports bool, float16, float32, float64, int8, int16, int32, int64 and uint8, uint16, but got <U3! at (D:\\1.8.3\\paddle\\paddle/fluid/pybind/tensor_py.h:242)\n"
     ]
    }
   ],
   "source": [
    "# 预测部分\n",
    "\n",
    "def save_result(points1, points2):\n",
    "    import matplotlib\n",
    "    matplotlib.use('Agg')\n",
    "    import matplotlib.pyplot as plt\n",
    "    x1 = [idx for idx in range(len(points1))]\n",
    "    y1 = points1\n",
    "    y2 = points2\n",
    "    l1 = plt.plot(x1, y1, 'r--', label='predictions')\n",
    "    l2 = plt.plot(x1, y2, 'g--', label='GT')\n",
    "    plt.plot(x1, y1, 'ro-', x1, y2, 'g+-')\n",
    "    plt.title('predictions VS GT')\n",
    "    plt.legend()\n",
    "    plt.savefig('./my_paddle_model/prediction_gt.png')\n",
    "\n",
    "infer_exe = fluid.Executor(place)\n",
    "inference_scope = fluid.core.Scope()\n",
    "\n",
    "pred_array = []\n",
    "\n",
    "with fluid.scope_guard(inference_scope):\n",
    "    [inference_program, feed_target_names,\n",
    "     fetch_targets] = fluid.io.load_inference_model(params_dirname, infer_exe) # 载入预训练模型=\n",
    "    batch_size = 10\n",
    "    iris_reader = fluid.io.batch(\n",
    "        test_reader, batch_size=10\n",
    "    )\n",
    "    iris_feat = np.array(TEST_DATA).astype(\"float32\")\n",
    "    iris_label = np.array(TEST_RES).astype(\"int64\")\n",
    "\n",
    "    assert feed_target_names[0] == 'input'\n",
    "    results = infer_exe.run(inference_program,\n",
    "                            feed={feed_target_names[0]: np.array(iris_feat)},\n",
    "                            fetch_list=fetch_targets)\n",
    "\n",
    "    print(\"Iris results: (Iris Type)\")\n",
    "    for idx, val in enumerate(results[0]):\n",
    "        pred = val.tolist().index(np.max(val))\n",
    "        pred_array.append([pred])\n",
    "        print(\"%d: %f\" % (idx, pred))  # 打印预测结果\n",
    "\n",
    "    save_result(pred_array, iris_label)"
   ]
  },
  {
   "cell_type": "code",
   "execution_count": null,
   "metadata": {
    "pycharm": {
     "name": "#%%\n"
    }
   },
   "outputs": [],
   "source": []
  }
 ],
 "metadata": {
  "kernelspec": {
   "display_name": "Python 3",
   "language": "python",
   "name": "python3"
  },
  "language_info": {
   "codemirror_mode": {
    "name": "ipython",
    "version": 3
   },
   "file_extension": ".py",
   "mimetype": "text/x-python",
   "name": "python",
   "nbconvert_exporter": "python",
   "pygments_lexer": "ipython3",
   "version": "3.7.7"
  }
 },
 "nbformat": 4,
 "nbformat_minor": 1
}